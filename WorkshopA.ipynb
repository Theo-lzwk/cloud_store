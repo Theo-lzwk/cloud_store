{
 "cells": [
  {
   "cell_type": "code",
   "execution_count": 1,
   "id": "7b264ab8-e9da-4ea4-956f-8c1cf043441e",
   "metadata": {},
   "outputs": [
    {
     "name": "stdout",
     "output_type": "stream",
     "text": [
      "w3 n33d n0 HARD-C0D3r5\n",
      "we need no HARD-CoDers\n",
      "we need no hard-coders.\n"
     ]
    }
   ],
   "source": [
    "# txt = \"   \\n\\n   \\t Th|s |S 50m3 c0D3,,, \\n \\t \"\n",
    "\n",
    "txt = \"\\t \\t  w3 n33d n0 HARD-C0D3r5 \\n\"\n",
    "\n",
    "txt1 = txt.strip().rstrip(',,,')\n",
    "print(txt1)\n",
    "txt2 = txt1.replace('5','s').replace('0','o').replace('3','e').replace('|','i')\n",
    "print(txt2)\n",
    "output1 = txt2.lower() + '.'\n",
    "\n",
    "print(output1)\n",
    "\n"
   ]
  },
  {
   "cell_type": "code",
   "execution_count": 24,
   "id": "94a694ca-6afd-40fa-a97b-5c0d0a4f4589",
   "metadata": {},
   "outputs": [
    {
     "name": "stdin",
     "output_type": "stream",
     "text": [
      "Is your shift over (y/n)?  n\n",
      "What amount do you want to change:  67.8\n"
     ]
    },
    {
     "name": "stdout",
     "output_type": "stream",
     "text": [
      "Output:\n",
      "3 twenty bills\n",
      "7 one bills\n",
      "1 fifty coin\n",
      "1 twenty coin\n",
      "1 ten coin\n"
     ]
    },
    {
     "name": "stdin",
     "output_type": "stream",
     "text": [
      "Is your shift over (y/n)?  n\n",
      "Mention the amount of change:  67.6\n"
     ]
    },
    {
     "name": "stdout",
     "output_type": "stream",
     "text": [
      "Output:\n",
      "3 twenty bills\n",
      "7 one bills\n",
      "1 fifty coin\n",
      "1 ten coin\n"
     ]
    },
    {
     "name": "stdin",
     "output_type": "stream",
     "text": [
      "Is your shift over (y/n)?  y\n"
     ]
    }
   ],
   "source": [
    "\n",
    "while True:\n",
    "    shift_over = input('Is your shift over (y/n)? ')\n",
    "    if shift_over == 'y' :\n",
    "        Done = False\n",
    "        break\n",
    "    elif shift_over == 'n':\n",
    "        Done = True\n",
    "        break\n",
    "    else: \n",
    "        print('Invalid reply')\n",
    "\n",
    "def is_digit(value):\n",
    "    try:\n",
    "        float(value)\n",
    "        return True\n",
    "    except ValueError:\n",
    "        return False \n",
    "\n",
    "while True:\n",
    "    amount = input('What amount do you want to change: ')\n",
    "    if is_digit(amount):\n",
    "        amount = float(amount)\n",
    "        break\n",
    "    else:\n",
    "        print('INVALID INPUT!!!')\n",
    "        continue\n",
    "    \n",
    "while Done == True:\n",
    "    \n",
    "    bills_20 = ''\n",
    "    bills_10 = ''\n",
    "    bills_1 = ''\n",
    "    coins_50 = ''\n",
    "    coins_20 = ''\n",
    "    coins_10 = ''\n",
    "\n",
    "    bills_20_num = amount // 20\n",
    "    \n",
    "    if bills_20_num  > 1 :\n",
    "        bills_20 = str(int(bills_20_num)) + ' twenty bills' + '\\n'\n",
    "    elif bills_20_num == 1:\n",
    "        bills_20 = str(int(bills_20_num)) + ' twenty bill' + '\\n'\n",
    "    else:\n",
    "        pass\n",
    "    \n",
    "    bill_left20 = round(amount % 20, 2)\n",
    "    \n",
    "    # print(bill_left20)\n",
    "    \n",
    "    bills_10_num = bill_left20 // 10\n",
    "    \n",
    "    if bills_10_num != 0:\n",
    "        bills_10 = str(int(bills_10_num)) + ' ten bill' + '\\n'\n",
    "    else:\n",
    "        pass\n",
    "\n",
    "    bill_left10 = round(bill_left20 % 10, 2)\n",
    "    \n",
    "    bills_1_num = bill_left10 // 1\n",
    "    \n",
    "    if bills_1_num  > 1 :\n",
    "        bills_1 = str(int(bills_1_num)) + ' one bills' + '\\n'\n",
    "    else:\n",
    "        bills_1 = str(int(bills_1_num)) + ' one bill' + '\\n'\n",
    "        \n",
    "    # print(bill_left10)\n",
    "    \n",
    "    bill_left1 = round(bill_left10 % 1, 2) * 100\n",
    "\n",
    "    # print(bill_left1,'bill_left1')\n",
    "    \n",
    "    coins_50_num = bill_left1 // 50 \n",
    "    \n",
    "    if coins_50_num != 0:\n",
    "            coins_50 = str(int(coins_50_num)) + ' fifty coin' + '\\n'\n",
    "    else:\n",
    "        pass\n",
    "\n",
    "    bill_left50c = bill_left1 % 50 \n",
    "\n",
    "    coins_20_num = bill_left50c // 20 \n",
    "    \n",
    "    # print(bill_left50c,'bill_left50c')\n",
    "    # print(coins_20_num,'coins_20_num')\n",
    "    \n",
    "    if coins_20_num  > 1 :\n",
    "        coins_20 = str(int(coins_20_num)) + ' twenty coins' + '\\n'\n",
    "    elif coins_20_num == 1:\n",
    "        coins_20 = str(int(coins_20_num)) + ' twenty coin' + '\\n'\n",
    "    else:\n",
    "        pass\n",
    "\n",
    "    bill_left20c = bill_left50c % 20\n",
    "    \n",
    "    coins_10_num = bill_left20c // 10 \n",
    "    \n",
    "    # print(bill_left20c,'bill_left20c')\n",
    "    # print(coins_10_num,'coins_10_num')\n",
    "\n",
    "    if coins_10_num != 0:\n",
    "        coins_10 = str(int(coins_10_num)) + ' ten coin' + '\\n'\n",
    "    else:\n",
    "        pass\n",
    "        \n",
    "    output2 = 'Output:'+ '\\n' + bills_20 + bills_10 + bills_1 + coins_50 + coins_20 + coins_10 \n",
    "    output2 = output2.strip()\n",
    "    print(output2)\n",
    "    \n",
    "    while True:\n",
    "        shift_over = input('Is your shift over (y/n)? ')\n",
    "        if shift_over == 'y' :\n",
    "            Done = False\n",
    "            break\n",
    "        elif shift_over == 'n':\n",
    "            Done = True\n",
    "            break\n",
    "        else: \n",
    "            print('Invalid reply')\n",
    "    \n",
    "    if Done == False:\n",
    "        break\n",
    "\n",
    "    \n",
    "    while True:\n",
    "        amount = input('Mention the amount of change: ')\n",
    "        if is_digit(amount):\n",
    "            amount = float(amount)\n",
    "            break\n",
    "        else:\n",
    "            print('INVALID INPUT!!!')\n",
    "            continue\n",
    "\n"
   ]
  },
  {
   "cell_type": "code",
   "execution_count": 9,
   "id": "6ee43c04-6446-4da0-bb9a-8ad4b9db0f61",
   "metadata": {},
   "outputs": [
    {
     "name": "stdout",
     "output_type": "stream",
     "text": [
      "40.000000000000036\n"
     ]
    }
   ],
   "source": [
    "bill_left10 = 6.4\n",
    "bill_left1 = bill_left10 % 1 * 100\n",
    "\n",
    "print(bill_left1)"
   ]
  },
  {
   "cell_type": "code",
   "execution_count": 16,
   "id": "983772e9-eacc-4db0-9141-f5873f35d79d",
   "metadata": {},
   "outputs": [
    {
     "name": "stdin",
     "output_type": "stream",
     "text": [
      "What amount do you want to change:  djhsalkjfds\n"
     ]
    },
    {
     "name": "stdout",
     "output_type": "stream",
     "text": [
      "INVALID INPUT!!!\n"
     ]
    },
    {
     "name": "stdin",
     "output_type": "stream",
     "text": [
      "What amount do you want to change:  46.4\n"
     ]
    },
    {
     "name": "stdout",
     "output_type": "stream",
     "text": [
      "INVALID INPUT!!!\n"
     ]
    },
    {
     "ename": "KeyboardInterrupt",
     "evalue": "Interrupted by user",
     "output_type": "error",
     "traceback": [
      "\u001b[1;31m---------------------------------------------------------------------------\u001b[0m",
      "\u001b[1;31mKeyboardInterrupt\u001b[0m                         Traceback (most recent call last)",
      "Cell \u001b[1;32mIn[16], line 2\u001b[0m\n\u001b[0;32m      1\u001b[0m \u001b[38;5;28;01mwhile\u001b[39;00m \u001b[38;5;28;01mTrue\u001b[39;00m:\n\u001b[1;32m----> 2\u001b[0m     amount \u001b[38;5;241m=\u001b[39m \u001b[38;5;28minput\u001b[39m(\u001b[38;5;124m'\u001b[39m\u001b[38;5;124mWhat amount do you want to change: \u001b[39m\u001b[38;5;124m'\u001b[39m)\n\u001b[0;32m      3\u001b[0m     \u001b[38;5;28;01mif\u001b[39;00m amount\u001b[38;5;241m.\u001b[39misdigit():\n\u001b[0;32m      4\u001b[0m         amount \u001b[38;5;241m=\u001b[39m \u001b[38;5;28mfloat\u001b[39m(amount)\n",
      "File \u001b[1;32mC:\\ProgramData\\Anaconda3\\Lib\\site-packages\\ipykernel\\kernelbase.py:1282\u001b[0m, in \u001b[0;36mKernel.raw_input\u001b[1;34m(self, prompt)\u001b[0m\n\u001b[0;32m   1280\u001b[0m     msg \u001b[38;5;241m=\u001b[39m \u001b[38;5;124m\"\u001b[39m\u001b[38;5;124mraw_input was called, but this frontend does not support input requests.\u001b[39m\u001b[38;5;124m\"\u001b[39m\n\u001b[0;32m   1281\u001b[0m     \u001b[38;5;28;01mraise\u001b[39;00m StdinNotImplementedError(msg)\n\u001b[1;32m-> 1282\u001b[0m \u001b[38;5;28;01mreturn\u001b[39;00m \u001b[38;5;28mself\u001b[39m\u001b[38;5;241m.\u001b[39m_input_request(\n\u001b[0;32m   1283\u001b[0m     \u001b[38;5;28mstr\u001b[39m(prompt),\n\u001b[0;32m   1284\u001b[0m     \u001b[38;5;28mself\u001b[39m\u001b[38;5;241m.\u001b[39m_parent_ident[\u001b[38;5;124m\"\u001b[39m\u001b[38;5;124mshell\u001b[39m\u001b[38;5;124m\"\u001b[39m],\n\u001b[0;32m   1285\u001b[0m     \u001b[38;5;28mself\u001b[39m\u001b[38;5;241m.\u001b[39mget_parent(\u001b[38;5;124m\"\u001b[39m\u001b[38;5;124mshell\u001b[39m\u001b[38;5;124m\"\u001b[39m),\n\u001b[0;32m   1286\u001b[0m     password\u001b[38;5;241m=\u001b[39m\u001b[38;5;28;01mFalse\u001b[39;00m,\n\u001b[0;32m   1287\u001b[0m )\n",
      "File \u001b[1;32mC:\\ProgramData\\Anaconda3\\Lib\\site-packages\\ipykernel\\kernelbase.py:1325\u001b[0m, in \u001b[0;36mKernel._input_request\u001b[1;34m(self, prompt, ident, parent, password)\u001b[0m\n\u001b[0;32m   1322\u001b[0m \u001b[38;5;28;01mexcept\u001b[39;00m \u001b[38;5;167;01mKeyboardInterrupt\u001b[39;00m:\n\u001b[0;32m   1323\u001b[0m     \u001b[38;5;66;03m# re-raise KeyboardInterrupt, to truncate traceback\u001b[39;00m\n\u001b[0;32m   1324\u001b[0m     msg \u001b[38;5;241m=\u001b[39m \u001b[38;5;124m\"\u001b[39m\u001b[38;5;124mInterrupted by user\u001b[39m\u001b[38;5;124m\"\u001b[39m\n\u001b[1;32m-> 1325\u001b[0m     \u001b[38;5;28;01mraise\u001b[39;00m \u001b[38;5;167;01mKeyboardInterrupt\u001b[39;00m(msg) \u001b[38;5;28;01mfrom\u001b[39;00m \u001b[38;5;28;01mNone\u001b[39;00m\n\u001b[0;32m   1326\u001b[0m \u001b[38;5;28;01mexcept\u001b[39;00m \u001b[38;5;167;01mException\u001b[39;00m:\n\u001b[0;32m   1327\u001b[0m     \u001b[38;5;28mself\u001b[39m\u001b[38;5;241m.\u001b[39mlog\u001b[38;5;241m.\u001b[39mwarning(\u001b[38;5;124m\"\u001b[39m\u001b[38;5;124mInvalid Message:\u001b[39m\u001b[38;5;124m\"\u001b[39m, exc_info\u001b[38;5;241m=\u001b[39m\u001b[38;5;28;01mTrue\u001b[39;00m)\n",
      "\u001b[1;31mKeyboardInterrupt\u001b[0m: Interrupted by user"
     ]
    }
   ],
   "source": [
    "def is_digit(value):\n",
    "    float(amount)\n",
    "    return True\n",
    "except ValueError:\n",
    "    return False "
   ]
  },
  {
   "cell_type": "code",
   "execution_count": 19,
   "id": "112fdd44-fb0a-4c10-b2e7-6708963161a0",
   "metadata": {},
   "outputs": [
    {
     "name": "stdin",
     "output_type": "stream",
     "text": [
      "What amount do you want to change:  45.6\n"
     ]
    },
    {
     "name": "stdout",
     "output_type": "stream",
     "text": [
      "45.6\n"
     ]
    }
   ],
   "source": [
    "def is_digit(value):\n",
    "    try:\n",
    "        float(value)\n",
    "        return True\n",
    "    except ValueError:\n",
    "        return False \n",
    "\n",
    "while True:\n",
    "    amount = input('What amount do you want to change: ')\n",
    "    if is_digit(amount):\n",
    "        amount = float(amount)\n",
    "        break\n",
    "    else:\n",
    "        print('INVALID INPUT!!!')\n",
    "        continue\n",
    "print(amount)\n",
    "    "
   ]
  },
  {
   "cell_type": "code",
   "execution_count": null,
   "id": "16b52a15-0ba2-43fc-ac3d-6cefa83a0215",
   "metadata": {},
   "outputs": [],
   "source": []
  }
 ],
 "metadata": {
  "kernelspec": {
   "display_name": "Python 3 (ipykernel)",
   "language": "python",
   "name": "python3"
  },
  "language_info": {
   "codemirror_mode": {
    "name": "ipython",
    "version": 3
   },
   "file_extension": ".py",
   "mimetype": "text/x-python",
   "name": "python",
   "nbconvert_exporter": "python",
   "pygments_lexer": "ipython3",
   "version": "3.12.3"
  }
 },
 "nbformat": 4,
 "nbformat_minor": 5
}
