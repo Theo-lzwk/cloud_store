{
 "cells": [
  {
   "cell_type": "code",
   "execution_count": 13,
   "id": "4e23ce8b-86b0-4816-98dd-5de0c393f495",
   "metadata": {},
   "outputs": [
    {
     "name": "stdout",
     "output_type": "stream",
     "text": [
      "6\n",
      "1\n",
      "8\n",
      "27\n"
     ]
    }
   ],
   "source": [
    "print(13//2) \n",
    "print(13%2)\n",
    "print(2 **3)\n",
    "\n",
    "import math\n",
    "print(pow(3,3))"
   ]
  },
  {
   "cell_type": "code",
   "execution_count": 11,
   "id": "84ee59d2-5542-4fed-9c58-46a67a21b020",
   "metadata": {},
   "outputs": [
    {
     "name": "stdout",
     "output_type": "stream",
     "text": [
      "3.15\n",
      "3.15\n",
      "3.15 <class 'str'>\n",
      "\n",
      "3.14\n"
     ]
    }
   ],
   "source": [
    "num  = 3.145936\n",
    "\n",
    "print(round(num, 2))\n",
    "print(f'{num:.2f}')\n",
    "print(format(num,'.2f'),type(format(num,'.2f')))\n",
    "print()\n",
    "print(int(num*100)/100)"
   ]
  },
  {
   "cell_type": "code",
   "execution_count": 19,
   "id": "2b1b27d8-37aa-42dd-8117-81b1a289b538",
   "metadata": {},
   "outputs": [
    {
     "name": "stdout",
     "output_type": "stream",
     "text": [
      "7.475987589205186\n",
      "3\n"
     ]
    }
   ],
   "source": [
    "#随机数\n",
    "\n",
    "import random\n",
    "\n",
    "random.seed(42) #设定种子使得随机数可以重复\n",
    "\n",
    "print(random.uniform(3,10)) #随机3~10之间的**小数**\n",
    "print(random.randint(3,10))#随机3~10之间的**整数**"
   ]
  },
  {
   "cell_type": "code",
   "execution_count": 38,
   "id": "2123dadd-9fc6-438e-90cf-e813dab05619",
   "metadata": {},
   "outputs": [
    {
     "name": "stdout",
     "output_type": "stream",
     "text": [
      "ABC\n",
      "DEF\n",
      "GHI\n",
      "i love python \n",
      "I LOVE PYTHON \n",
      "I l0ve Pyth0n \n",
      "2\n",
      "I love Python\n",
      "False\n",
      "There are 14 characters in example\n",
      "True\n",
      "“love” is in example\n"
     ]
    }
   ],
   "source": [
    "#str\n",
    "\n",
    "#多行显示\n",
    "\n",
    "multiLine = \"\"\"ABC\n",
    "DEF\n",
    "GHI\"\"\"\n",
    "print(multiLine)\n",
    "\n",
    "example = 'I love Python '\n",
    "print(example.lower())\n",
    "print(example.upper())\n",
    "print(example.replace('o', '0'))\n",
    "print(example.count('o'))\n",
    "print(example.strip()) #lstrip 或者rstrip 分别去除左边，右边\n",
    "\n",
    "print(example.isalpha()) #返回是否纯字母 （example有空格）\n",
    "\n",
    "print('There are', len(example), 'characters in example')\n",
    "#capitalize（）首字母大写\n",
    "#title（）所有单词首字母大写\n",
    "#s[0].upper() + s[1:] 首字母大写其他不动\n",
    "\n",
    "num = '123'\n",
    "print(num.isdigit()) #只对字符串起作用\n",
    "\n",
    "#查找\n",
    "if 'love' in example:\n",
    "    print('“love” is in example')"
   ]
  },
  {
   "cell_type": "code",
   "execution_count": 39,
   "id": "66ea401a-06bf-4a9c-af36-4e7f7fc890db",
   "metadata": {},
   "outputs": [],
   "source": [
    "# Bool\n",
    "True and False\n",
    "\n",
    "#Nonetype\n",
    "None"
   ]
  },
  {
   "cell_type": "code",
   "execution_count": 41,
   "id": "228b6cc1-758a-4578-aa96-b760aeb2f0ad",
   "metadata": {},
   "outputs": [
    {
     "name": "stdout",
     "output_type": "stream",
     "text": [
      "Theo, Welcome to Python world\n"
     ]
    }
   ],
   "source": [
    "# f-string\n",
    "name = 'Theo'\n",
    "print(f'{name}, Welcome to Python world')"
   ]
  },
  {
   "cell_type": "code",
   "execution_count": 44,
   "id": "dcd3a36c-b973-4f03-a494-ebf9f7156d46",
   "metadata": {},
   "outputs": [
    {
     "name": "stdout",
     "output_type": "stream",
     "text": [
      "2.0\n"
     ]
    }
   ],
   "source": [
    "import math\n",
    "\n",
    "print(math.sqrt(4)) #平方根"
   ]
  },
  {
   "cell_type": "code",
   "execution_count": null,
   "id": "f854c6ec-e833-419a-b0ff-c4ea8caa888c",
   "metadata": {},
   "outputs": [],
   "source": [
    "from pprint import pprint\n",
    "pprint()"
   ]
  },
  {
   "cell_type": "code",
   "execution_count": null,
   "id": "c787a9e1-a58a-46da-a61a-2c6a5f4dd09f",
   "metadata": {},
   "outputs": [],
   "source": [
    "#bug 调试\n",
    "# try/except\n",
    "\n",
    "# import pdb\n",
    "# pdb.set_trace() \n",
    "# 逐行调试"
   ]
  },
  {
   "cell_type": "code",
   "execution_count": null,
   "id": "3f70da6a-0512-4b75-89e4-f854bc2fdd2a",
   "metadata": {},
   "outputs": [],
   "source": [
    "# While loop \n",
    "# 条件正确就一直执行，直到条件不符合跳出loop\n",
    "\n",
    "# pass \n",
    "# break"
   ]
  },
  {
   "cell_type": "code",
   "execution_count": null,
   "id": "b485238f-0b31-4dda-a9ba-c493028ac0da",
   "metadata": {},
   "outputs": [],
   "source": [
    "#List 列表序号从【0】开始\n",
    "lst1.extend(lst2)\n",
    "lst1.append(lst2)\n",
    "lst3 = lst1.copy() #复制lst1 且后续对lst3的操作不影响lst1\n",
    "lst3 = lst1 #lst1和lst3对应同一个list\n",
    "lst1.remove(element)\n",
    "\n",
    "lst1.pop() #弹出且默认弹出最后一个列表元素\n",
    "                #输入数字，按照index的顺序弹出相应位置 lst1.pop(1)弹出第二个元素\n",
    "\n",
    "lst1.sort()#排序，默认以升序排列 降序 reverse =True，保留原列表（不对原来列表有影响）使用sorted(); 注意sort()本身返回None值\n",
    "                #排序对大小写敏感，先大写再小写 sort(key = str.lower)不受到大小写影响\n",
    "                # key = len 根据字符长度排序\n",
    "                #key = abs 按照绝对值排序\n",
    "                # key=lambda x: (...) 中可以写多个条件\n",
    "                # 想降序某个条件就用负号 -x['score']，或者配合 reverse=True\n",
    "                # 字符串排序默认区分大小写（大写排在前面），可以用 .lower() 做统一处理\n",
    "del lst1\n",
    "lst1.clear()\n",
    "lst1.count(element)\n",
    "lst1.reverse()\n",
    "\n",
    "in,not in\n",
    "\n",
    "range(start, end, step) #生成一个从0到i（不包括i）的List\n",
    "\n",
    "\n",
    "# 获取列表索引\n",
    "lst1.index(element)\n",
    "\n",
    "# enumerate() 是 Python 的一个内置函数，用于在遍历可迭代对象（比如列表、元组、字符串等）时，同时获取元素的索引和值，非常方便。\n",
    "# 例子\n",
    "fruits = ['apple', 'banana', 'cherry']\n",
    "\n",
    "for index, fruit in enumerate(fruits):\n",
    "    print(index, fruit)\n",
    "\n",
    "# 特定位置插入元素\n",
    "lst1.insert(index, element)"
   ]
  },
  {
   "cell_type": "code",
   "execution_count": 43,
   "id": "30461fb1-a744-4880-9f50-64ae321cca33",
   "metadata": {},
   "outputs": [],
   "source": [
    "# For loop\n",
    "# 条件错误就反复执行,正确跳出loop\n",
    "\n",
    "break\n",
    "continue\n",
    "pass"
   ]
  },
  {
   "cell_type": "code",
   "execution_count": null,
   "id": "8265a379-b280-4689-9a38-aec4c8df04a6",
   "metadata": {},
   "outputs": [],
   "source": [
    "# Dict 字典\n",
    "\n",
    "dict1 = {key:value}\n",
    "dict2 = dict(key = value) #key在dict中是唯一的，重复的key ，后一个会覆盖前一个key\n",
    "\n",
    "# 添加元素\n",
    "dict1[key] = value\n",
    "\n",
    "# change value\n",
    "dict1.update({key: value2})\n",
    "\n",
    "dict1.pop(key)\n",
    "dict1.clear(key)\n",
    "del dict2\n",
    "\n",
    "len(dict1)\n",
    "\n",
    "dict1.items()\n",
    "dict1.keys()\n",
    "dict1.values()\n",
    "\n",
    "# 子字典\n",
    "\n",
    "# 将两个列表糅合成一个字典\n",
    "key = []\n",
    "value = []\n",
    "\n",
    "dict2 = dict(zip(key,value))\n",
    "\n",
    "# 需要列表一样索引key，value时候.\\比如足球比赛那道例题\n",
    "\n",
    "list(dict1.items()) #获取字典每一项，为元组 tuple\n",
    "list(dict1.keys()) #获取字典key成list\n",
    "list(dict1.values())#获取字典value成list"
   ]
  },
  {
   "cell_type": "code",
   "execution_count": null,
   "id": "8158e6fe-d7cb-4516-a4b1-97327a2b4ee7",
   "metadata": {},
   "outputs": [],
   "source": [
    "# 自定义函数\n",
    "\n",
    "def function_name(param1, param2 = 'example', .....):\n",
    "    global param1\n",
    "    pass #return None\n",
    "    return result\n",
    "\n",
    "def name(*args):#Arbitrary Arguments：把所有的输入值聚成一个tuple。不可改变的list，支持输入多个值 \n",
    "    print(args)\n",
    "    print(type(args))\n",
    "    \n",
    "name(\"David\", \"John\", \"Smith\", \"Denise\")\n",
    "\n",
    "def construct_login_greeting(**kargs):#Arbitrary Keyword Arguments: 支持输入内容定义，输出为一个字典\n",
    "    print(kargs)\n",
    "    print(type(kargs))\n",
    "\n",
    "construct_login_greeting(fname = \"David\", m1name = \"John\", m2name= \"Smith\", lname = \"Denise\")\n",
    "\n",
    "#匿名函数 临时函数 Anonymous Functions\n",
    "\n",
    "print((lambda num: num*num*num)(9)) #def calculate_cube(num):\n",
    "                                                            # return num*num*num\n",
    "                                                            # calculate_cube(9)\n",
    "\n",
    "lambda_cube = lambda num: num*num*num#等效\n",
    "print(lambda_cube(9))\n"
   ]
  },
  {
   "cell_type": "code",
   "execution_count": null,
   "id": "97629ab2-2133-4fd3-a631-f8a20305f69f",
   "metadata": {},
   "outputs": [],
   "source": [
    "# Str slices\n",
    "str1 = 'HELLO WORLD!'\n",
    "# str[start: stop: step]\n",
    "# str1[ : :-1]-> !DLROW OLLEH\n",
    "# str1[-3: ]-> LD!\n",
    "# str1[ :5]-> HELLO\n",
    "\n",
    "str.split(separator, maxsplit) #以什么为分割，分割多少次 分割2次，为三份 \n",
    "                                            #输出List\n",
    "\n",
    "'#'.join(lst1) #将List合并，以‘#’（任何符号或者空符号或者空格均可以）来分割list中的元素\n"
   ]
  },
  {
   "cell_type": "code",
   "execution_count": null,
   "id": "d94a28c9-62dd-44a3-816b-33fe1165781d",
   "metadata": {},
   "outputs": [],
   "source": [
    "# Tuples  immutable\n",
    "tuple = ()\n",
    "\n",
    "--------------------------------------------\n",
    "#Sets unindexed & unordered & unchangeable but can remove or add item\n",
    "set = {}\n",
    "\n",
    "# set添加元素用add()\n",
    "set.add()\n",
    "#并集:合并并返回所有去重复后的元素\n",
    "a.union(b) #等效 a|b\n",
    "\n",
    "# 交集：返回两个都包含的元素\n",
    "a.intersection(b) #等效 a&b\n",
    "\n",
    "# 返回只有集合1包含但集合2不包含的元素\n",
    "a.difference(b) #等效 a-b\n",
    "\n",
    "#a是否是b的子集\n",
    "a.issubset(b) #等效 a <=b\n",
    "\n",
    "#a 是否为b的超集/父集\n",
    "a.issuperset(b) #等效 a>=b\n",
    "\n",
    "#检查是否没有交集\n",
    "a.isdisjoint(b) #没有返回True,有则返回False"
   ]
  },
  {
   "cell_type": "code",
   "execution_count": null,
   "id": "f8cce495-8c4d-464e-8a94-cf7f50b2aad2",
   "metadata": {},
   "outputs": [],
   "source": [
    "data = input(\"请输入列表元素，用逗号分隔：\")  # 如：1,2,3,4\n",
    "lst = data.split(\",\")  # 变成 ['1', '2', '3', '4']\n",
    "lst = [int(x) for x in lst]  # 转换为整数列表 [1, 2, 3, 4]\n",
    "print(lst)\n",
    "\n",
    "\n",
    "data = input(\"请输入字典项（key:value 用逗号分隔）：\")  # 如：a:1,b:2\n",
    "items = data.split(\",\")  # ['a:1', 'b:2']\n",
    "d = {k: int(v) for k, v in (item.split(\":\") for item in items)}\n",
    "print(d)"
   ]
  }
 ],
 "metadata": {
  "kernelspec": {
   "display_name": "Python 3 (ipykernel)",
   "language": "python",
   "name": "python3"
  },
  "language_info": {
   "codemirror_mode": {
    "name": "ipython",
    "version": 3
   },
   "file_extension": ".py",
   "mimetype": "text/x-python",
   "name": "python",
   "nbconvert_exporter": "python",
   "pygments_lexer": "ipython3",
   "version": "3.12.7"
  }
 },
 "nbformat": 4,
 "nbformat_minor": 5
}
